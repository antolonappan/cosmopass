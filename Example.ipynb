{
 "cells": [
  {
   "cell_type": "code",
   "execution_count": 3,
   "metadata": {},
   "outputs": [],
   "source": [
    "#for finding hubble(z) in LCDM\n",
    "\n",
    "from cosmopass.equations.fluids import LCDM\n",
    "\n",
    "h0 = LCDM(Om0=.3,rd=147,h=.7,Or0=5,sigma8=.8).hubble_z(0)\n",
    "print(h0)"
   ]
  },
  {
   "cell_type": "code",
   "execution_count": 5,
   "metadata": {},
   "outputs": [
    {
     "name": "stdout",
     "output_type": "stream",
     "text": [
      "Om0,rd,h,Or0,sigma8 [QSO:+ m,delta]\n"
     ]
    }
   ],
   "source": [
    "#How to get likelihoods?\n",
    "from cosmopass.likelihoods.chisquares import model\n",
    "\n",
    "lcdm = model('LCDM')\n",
    "\n",
    "#Now if you want to know what are the parameters of 'LCDM' you can get info by,\n",
    "print(lcdm.Params)"
   ]
  },
  {
   "cell_type": "code",
   "execution_count": 7,
   "metadata": {},
   "outputs": [
    {
     "data": {
      "text/plain": [
       "21.388872148349044"
      ]
     },
     "execution_count": 7,
     "metadata": {},
     "output_type": "execute_result"
    }
   ],
   "source": [
    "#For computing specific chi_sq like BAO,\n",
    "lcdm.chi_bao(.3,147,.7,5,.8)"
   ]
  },
  {
   "cell_type": "code",
   "execution_count": 8,
   "metadata": {},
   "outputs": [
    {
     "data": {
      "text/plain": [
       "78.1131201727527"
      ]
     },
     "execution_count": 8,
     "metadata": {},
     "output_type": "execute_result"
    }
   ],
   "source": [
    "#For computing combination of different chi_sq like h+bao+jla\n",
    "lcdm.chi_list = [\"h\",\"bao\",\"jla\"]\n",
    "lcdm.chi_sq(.3,147,.7,5,.8)"
   ]
  },
  {
   "cell_type": "code",
   "execution_count": 6,
   "metadata": {},
   "outputs": [
    {
     "data": {
      "text/plain": [
       "2059.285012361547"
      ]
     },
     "execution_count": 6,
     "metadata": {},
     "output_type": "execute_result"
    }
   ],
   "source": [
    "#If you want to use quasar you need to add to parameters 'm' and 'delta' specified in Risaliti.et al\n",
    "lcdm.chi_qso(.3, 147, .7, 5, .8, 0, 1.3)\n",
    "\n",
    "#Or if the combination has qso\n",
    "lcdm.chi_list = [\"h\",\"bao\",\"qso\"]\n",
    "lcdm.chi_sq(.3, 147, .7, 5, .8, 0, 1.3) # since the combination has 'qso', you have to provide 'm' and 'delta'\n",
    "\n",
    "# VERY IMPORTANT THING TO REMEMBER\n",
    "# The flexibility of likelihoods is achived using *args\n",
    "# What does it means?\n",
    "# Likelihood does't care of the order of parameters it silently passes to parent definitions.\n",
    "# Which means; (0.3,147,.7,5,.8) is not equal to (0.3,.7,147,5,.8) ORDER MATTERS. \n",
    "# For confirming the order you can always check the 'Params' as shown in the above lines\n",
    "# Since it is not using **kwargs passing the arguments by assignment(Om0=.3,rd=147) won't work"
   ]
  }
 ],
 "metadata": {
  "kernelspec": {
   "display_name": "Python 3",
   "language": "python",
   "name": "python3"
  },
  "language_info": {
   "codemirror_mode": {
    "name": "ipython",
    "version": 3
   },
   "file_extension": ".py",
   "mimetype": "text/x-python",
   "name": "python",
   "nbconvert_exporter": "python",
   "pygments_lexer": "ipython3",
   "version": "3.7.3"
  }
 },
 "nbformat": 4,
 "nbformat_minor": 2
}
